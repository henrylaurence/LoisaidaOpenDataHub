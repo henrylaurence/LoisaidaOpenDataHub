{
 "cells": [
  {
   "cell_type": "code",
   "execution_count": null,
   "metadata": {},
   "outputs": [],
   "source": [
    "# Libaries\n",
    "import os\n",
    "from pathlib import Path\n",
    "import pandas as pd\n",
    "import geopandas as gpd\n",
    "import leafmap.foliumap as leafmap"
   ]
  },
  {
   "cell_type": "code",
   "execution_count": null,
   "metadata": {},
   "outputs": [],
   "source": [
    "# Directory\n",
    "current = Path.cwd()\n",
    "parent = current.resolve().parent / 'data'\n",
    "os.chdir(parent)\n",
    "os.getcwd()"
   ]
  },
  {
   "cell_type": "code",
   "execution_count": null,
   "metadata": {},
   "outputs": [],
   "source": [
    "# Data\n",
    "ZipCodes = gpd.read_file(\"cb_2019_us_zcta510_500k/cb_2019_us_zcta510_500k.shp\")\n",
    "MODZCTA10 = gpd.read_file(\"Modified Zip Code Tabulation Areas (MODZCTA)_20240710/geo_export_39ff3478-bd33-4802-a75e-cd3a5fc72c34.shp\")\n",
    "OCS_Oil19 = pd.read_csv(\"Office_of_Climate_and_Sustainability__2019_Fuel_Oil_Sales_20240710.csv\")\n",
    "ZCTA_XWalk = pd.read_csv(\"ZCTACrosswalkMN.csv\")"
   ]
  },
  {
   "cell_type": "code",
   "execution_count": null,
   "metadata": {},
   "outputs": [],
   "source": [
    "# Data processing\n",
    "\n",
    "ZipCodes['ZCTA5CE10'] = ZipCodes['ZCTA5CE10'].astype(int)\n",
    "MNZip_Geo = ZipCodes[(ZipCodes['ZCTA5CE10'].between(10001, 10282))]\n",
    "MNZip_Geo = MNZip_Geo.rename(columns={'ZCTA5CE10':'ZCTA'})\n",
    "Oil19 = OCS_Oil19[(OCS_Oil19['Zip Code'].between(10001, 10282))]\n",
    "Oil19 = Oil19.rename(columns={'Zip Code': 'ZCTA'})\n",
    "Oil19_Geo = pd.merge(MNZip_Geo, Oil19, on='ZCTA', how='left')\n",
    "MainOil19_Geo = Oil19_Geo[['ZCTA',\n",
    "       'Total #2 Fuel Oil   without Biodiesel Component',\n",
    "       'Total Biodiesel Blended with #2 Fuel Oil',\n",
    "       'Total #4 Fuel Oil without Biodiesel Component',\n",
    "       'Total Biodiesel Blended with #4 Fuel Oil'\n",
    "                   ]]\n",
    "#MainOil19_Geo = MainOil19_Geo[['Total #2 Fuel Oil without Biodiesel Component',\n",
    "#       'Total Biodiesel Blended with #2 Fuel Oil',\n",
    "#       'Total #4 Fuel Oil without Biodiesel Component',\n",
    "#       'Total Biodiesel Blended with #4 Fuel Oil']].round(2)\n",
    "\n",
    "MainOil19_Mod = pd.merge(ZCTA_XWalk, MainOil19_Geo, on ='ZCTA', how ='left')\n",
    "\n",
    "MainOil19_Group = MainOil19_Mod.groupby('MODZCTA').agg({'Total #2 Fuel Oil without Biodiesel Component': 'sum',\n",
    "                                                 'Total Biodiesel Blended with #2 Fuel Oil': 'sum',\n",
    "                                                 'Total #4 Fuel Oil without Biodiesel Component': 'sum',\n",
    "                                                 'Total Biodiesel Blended with #4 Fuel Oil': 'sum'}\n",
    ").reset_index()\n",
    "MODZCTA10 = MODZCTA10.rename(columns={'modzcta': 'MODZCTA'})\n",
    "MODZCTA10['MODZCTA'] = MODZCTA10['MODZCTA'].astype(int)\n",
    "MainOil19_GroupGeo = pd.merge(MainOil19_Group, MODZCTA10, on='MODZCTA', how ='left')\n",
    "MainOil19_GroupGeo = gpd.GeoDataFrame(data=MainOil19_GroupGeo, geometry='geometry')\n",
    "\n",
    "Fuel2_19 = Oil19_Geo[['ZCTA',\n",
    "       '#2 Fuel Oil with 0% biodiesel (gallons)',\n",
    "       '#2 Fuel Oil with 2% biodiesel (gallons)',\n",
    "       '#2 Fuel Oil with 5% biodiesel (gallons)',\n",
    "       '#2 Fuel Oil with 6% biodiesel (gallons)',\n",
    "       '#2 Fuel Oil with 10% biodiesel (gallons)',\n",
    "       '#2 Fuel Oil with 17% biodiesel (gallons)',\n",
    "       'Total #2 Fuel Oil without Biodiesel Component',\n",
    "       'Total Biodiesel Blended with #2 Fuel Oil'\n",
    "                   ]]\n",
    "Fuel4_19 = Oil19_Geo[['ZCTA',\n",
    "       '#4 Fuel Oil with 2% biodiesel (gallons)',\n",
    "       '#4 Fuel Oil with 5% biodiesel (gallons)',\n",
    "       '#4 Fuel Oil with 6% biodiesel (gallons)',\n",
    "       'Total #4 Fuel Oil without Biodiesel Component',\n",
    "       'Total Biodiesel Blended with #4 Fuel Oil'\n",
    "                   ]]"
   ]
  },
  {
   "cell_type": "code",
   "execution_count": null,
   "metadata": {},
   "outputs": [],
   "source": [
    "# Returning GeoJSONs\n",
    "MainOil19_GroupGeo.to_file('FuelOil_MN_19.geojson', driver='GeoJSON')"
   ]
  },
  {
   "cell_type": "code",
   "execution_count": 6,
   "metadata": {},
   "outputs": [],
   "source": [
    "# Plotting\n",
    "m = leafmap.Map(center=[40.7248387,-73.9775537], zoom=12)\n",
    "m.add_data(MainOil19_GroupGeo, column='Total Biodiesel Blended with #2 Fuel Oil', scheme='Quantiles', \n",
    "           cmap='Blues', legend_title=\"Total Biodiesel with #2 Fuel (gallons)\"\n",
    ")\n",
    "m.add_data(MainOil19_GroupGeo, column='Total Biodiesel Blended with #4 Fuel Oil', scheme='Quantiles', \n",
    "           cmap='Blues', legend_title=\"Total Biodiesel with #4 Fuel (ga#llons)\"\n",
    ")\n",
    "#m.show_in_browser()"
   ]
  }
 ],
 "metadata": {
  "kernelspec": {
   "display_name": "base",
   "language": "python",
   "name": "python3"
  },
  "language_info": {
   "codemirror_mode": {
    "name": "ipython",
    "version": 3
   },
   "file_extension": ".py",
   "mimetype": "text/x-python",
   "name": "python",
   "nbconvert_exporter": "python",
   "pygments_lexer": "ipython3",
   "version": "3.11.8"
  }
 },
 "nbformat": 4,
 "nbformat_minor": 2
}
