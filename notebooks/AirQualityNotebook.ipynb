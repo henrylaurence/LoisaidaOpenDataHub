{
 "cells": [
  {
   "cell_type": "code",
   "execution_count": null,
   "metadata": {},
   "outputs": [],
   "source": [
    "# Libraries\n",
    "import os\n",
    "from pathlib import Path\n",
    "import pandas as pd\n",
    "import geopandas as gpd\n",
    "import leafmap.foliumap as leafmap"
   ]
  },
  {
   "cell_type": "code",
   "execution_count": null,
   "metadata": {},
   "outputs": [],
   "source": [
    "# Directory\n",
    "current = Path.cwd()\n",
    "parent = current.resolve().parent / 'data'\n",
    "os.chdir(parent)\n",
    "os.getcwd()"
   ]
  },
  {
   "cell_type": "code",
   "execution_count": null,
   "metadata": {},
   "outputs": [],
   "source": [
    "# Vector data\n",
    "CD = gpd.read_file(\"Community Districts\\geo_export_a737f7fc-fbdb-4ef4-9c85-0e0fb456354f.shp\")\n",
    "\n",
    "# Attribute data\n",
    "Fine = pd.read_csv(\"Fine Particles MN 2022.csv\")\n",
    "NO = pd.read_csv(\"Nitric oxide (NO) MN 2022.csv\")\n",
    "NO2 = pd.read_csv(\"Nitrogen dioxide (NO2) MN 2022.csv\")\n",
    "O3 = pd.read_csv(\"Ozone (O3) MN 2022.csv\")"
   ]
  },
  {
   "cell_type": "code",
   "execution_count": null,
   "metadata": {},
   "outputs": [],
   "source": [
    "# Cleaning, renaming, and merging\n",
    "CD['boro_cd'] = CD['boro_cd'].astype(int)\n",
    "CD = CD.rename(columns={'boro_cd': 'GeoID'})\n",
    "\n",
    "Fine_Geo = pd.merge(CD, Fine, on='GeoID', how='right')\n",
    "NO_Geo = pd.merge(CD, NO, on='GeoID', how='right')\n",
    "NO2_Geo = pd.merge(CD, NO2, on='GeoID', how='right')\n",
    "O3_Geo = pd.merge(CD, O3, on='GeoID', how='right')\n",
    "#NO_Geo.dropna(subset='Mean ppb', inplace=True)"
   ]
  },
  {
   "cell_type": "code",
   "execution_count": null,
   "metadata": {},
   "outputs": [],
   "source": [
    "# Returning GeoJSONs\n",
    "Fine_Geo.to_file(filename='FineParticles2022_MN.geojson', driver='GeoJSON')\n",
    "NO_Geo.to_file(filename='NitricOxide2022_MN.geojson', driver='GeoJSON')\n",
    "NO2_Geo.to_file(filename='NitrogenDioxide2022_MN.geojson', driver='GeoJSON')\n",
    "O3_Geo.to_file(filename='Ozone2022_MN.geosjon', driver='GeoJSON')"
   ]
  },
  {
   "cell_type": "code",
   "execution_count": null,
   "metadata": {},
   "outputs": [],
   "source": [
    "# Plotting (Notebook)\n",
    "m = leafmap.Map(center=[40.7248387,-73.9775537], zoom=12)\n",
    "m.add_gdf(CD) #layer_name='NYC Council Districts')\n",
    "m.add_data(Fine_Geo, column = 'Mean mcg/m3', scheme ='quantiles', cmap='Blues')\n",
    "m.add_data(NO_Geo, column = 'Mean ppb', scheme ='quantiles', cmap='Blues')\n",
    "m.add_data(NO2_Geo, column = 'Mean ppb', scheme ='quantiles', cmap='Blues')\n",
    "m.add_data(O3_Geo, column = 'Mean ppb', scheme ='quantiles', cmap='Blues')\n",
    "#m.show_in_browser()"
   ]
  }
 ],
 "metadata": {
  "kernelspec": {
   "display_name": "Python 3",
   "language": "python",
   "name": "python3"
  },
  "language_info": {
   "codemirror_mode": {
    "name": "ipython",
    "version": 3
   },
   "file_extension": ".py",
   "mimetype": "text/x-python",
   "name": "python",
   "nbconvert_exporter": "python",
   "pygments_lexer": "ipython3",
   "version": "3.11.8"
  }
 },
 "nbformat": 4,
 "nbformat_minor": 2
}
