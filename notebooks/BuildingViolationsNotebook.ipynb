{
 "cells": [
  {
   "cell_type": "code",
   "execution_count": 14,
   "metadata": {},
   "outputs": [],
   "source": [
    "import os\n",
    "from pathlib import Path\n",
    "import numpy as np\n",
    "import pandas as pd\n",
    "import geopandas as gpd\n",
    "import shapely\n",
    "from shapely.geometry import Point\n",
    "import leafmap.foliumap as leafmap"
   ]
  },
  {
   "cell_type": "code",
   "execution_count": 15,
   "metadata": {},
   "outputs": [
    {
     "data": {
      "text/plain": [
       "'C:\\\\Users\\\\alons\\\\OneDrive\\\\Documents\\\\Code\\\\Python\\\\CondaSpatial\\\\Streamlit\\\\LoisaidaOpenDataHub\\\\data'"
      ]
     },
     "execution_count": 15,
     "metadata": {},
     "output_type": "execute_result"
    }
   ],
   "source": [
    "# Directory\n",
    "current = Path.cwd()\n",
    "parent = current.resolve().parent / 'data'\n",
    "os.chdir(parent)\n",
    "os.getcwd()"
   ]
  },
  {
   "cell_type": "code",
   "execution_count": 16,
   "metadata": {},
   "outputs": [],
   "source": [
    "# Load data\n",
    "NTA20 = gpd.read_file(\"2020 Neighborhood Tabulation Areas (NTAs).geojson\")\n",
    "Pluto = pd.read_csv(\"pluto_24v2.csv\")\n",
    "LL104 = pd.read_csv(\"LL104_properties.csv\")\n",
    "Boba = pd.read_csv(\"bobaadr.csv\")"
   ]
  },
  {
   "cell_type": "code",
   "execution_count": 17,
   "metadata": {},
   "outputs": [],
   "source": [
    "# Processing\n",
    "NTA20_MN = NTA20[NTA20['boroname'] == 'Manhattan']\n",
    "PlutoMN = Pluto[Pluto['borough'] == 'MN']\n",
    "LL104MN = LL104[LL104['BOROUGH'] == 'Manhattan']\n",
    "Boba = Boba[Boba['boro'] == 1]\n",
    "\n",
    "Boba = Boba.drop_duplicates(subset='bin')\n",
    "\n",
    "JoinTest = pd.merge(LL104MN, Boba, how='left', left_on='BIN', right_on='bin')\n",
    "\n",
    "JoinTest['boro'] = '10'\n",
    "JoinTest['block'] = JoinTest['block'].astype(str).str.zfill(4)\n",
    "JoinTest['lot'] = JoinTest['lot'].astype(str).str.zfill(4)\n",
    "JoinTest['bbl'] = JoinTest['boro'] + JoinTest['block'] + JoinTest['lot']\n",
    "JoinTest = JoinTest.drop_duplicates(subset='bbl')\n",
    "\n",
    "PlutoMN['bbl'] = PlutoMN['bbl'].astype(int).astype(str)\n",
    "\n",
    "JoinTestPluto = pd.merge(JoinTest, PlutoMN, how='left', on ='bbl')\n",
    "\n",
    "JoinTestPluto = JoinTestPluto[['ADDRESS', 'BIN', 'HPD_VIOLATIONS', 'DOB_VIOLATIONS', 'TOTAL_VIOLATIONS', 'DWELLING_UNITS', 'VIO_UNITS_RATIO',\n",
    "                               'latitude', 'longitude']]\n",
    "\n",
    "geometry = [Point(xy) for xy in zip(JoinTestPluto['longitude'], JoinTestPluto['latitude'])]\n",
    "crs = {'init': 'epsg:4326'}\n",
    "Viol_gdf = gpd.GeoDataFrame(JoinTestPluto, crs=crs, geometry=geometry)\n"
   ]
  },
  {
   "cell_type": "code",
   "execution_count": 18,
   "metadata": {},
   "outputs": [],
   "source": [
    "# Returning data\n",
    "NTA20_MN.to_file(\"NTA20_MN.geojson\", driver='GeoJSON')\n",
    "Viol_gdf.to_file('LES_Buildings_OpenViolations.geojson', driver='GeoJSON')  "
   ]
  },
  {
   "cell_type": "code",
   "execution_count": 19,
   "metadata": {},
   "outputs": [],
   "source": [
    "# Plotting\n",
    "m = leafmap.Map(center=[40.7248387,-73.9775537], zoom=12)\n",
    "m.add_gdf(gdf=NTA20_MN, layer_name='Manhattan Neighborhood Tabulation Areas (NTAs)', info_mode='on_click')\n",
    "#m.add_labels(data=NTA20_MN, column='ntaname', font_size='12pt', font_color='black', font_family='arial', font_weight='normal')\n",
    "m.add_gdf(gdf=Viol_gdf, layer='Open DOB Violations', info_mode= 'on_hover', zoom_to_layer=True)\n",
    "#m.add_layer_control(position='bottomright')\n",
    "#m.add_layer_manager(position='topright')"
   ]
  }
 ],
 "metadata": {
  "kernelspec": {
   "display_name": "Python 3",
   "language": "python",
   "name": "python3"
  },
  "language_info": {
   "codemirror_mode": {
    "name": "ipython",
    "version": 3
   },
   "file_extension": ".py",
   "mimetype": "text/x-python",
   "name": "python",
   "nbconvert_exporter": "python",
   "pygments_lexer": "ipython3",
   "version": "3.11.8"
  }
 },
 "nbformat": 4,
 "nbformat_minor": 2
}
