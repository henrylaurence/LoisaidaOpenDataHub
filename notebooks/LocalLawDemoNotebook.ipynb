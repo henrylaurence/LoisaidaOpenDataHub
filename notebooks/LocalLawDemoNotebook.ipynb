{
 "cells": [
  {
   "cell_type": "markdown",
   "metadata": {},
   "source": [
    "Implement shapefile processing done in QGIS to this notebook. "
   ]
  },
  {
   "cell_type": "code",
   "execution_count": 11,
   "metadata": {},
   "outputs": [],
   "source": [
    "# Libraries\n",
    "import os\n",
    "from pathlib import Path\n",
    "import pandas as pd\n",
    "import geopandas as gpd"
   ]
  },
  {
   "cell_type": "code",
   "execution_count": 12,
   "metadata": {},
   "outputs": [
    {
     "data": {
      "text/plain": [
       "'C:\\\\Users\\\\alons\\\\OneDrive\\\\Documents\\\\Code\\\\Python\\\\CondaSpatial\\\\Streamlit\\\\LoisaidaOpenDataHub\\\\data'"
      ]
     },
     "execution_count": 12,
     "metadata": {},
     "output_type": "execute_result"
    }
   ],
   "source": [
    "# Directory\n",
    "current = Path.cwd()\n",
    "parent = current.resolve().parent / 'data'\n",
    "os.chdir(parent)\n",
    "os.getcwd()"
   ]
  },
  {
   "cell_type": "code",
   "execution_count": 13,
   "metadata": {},
   "outputs": [],
   "source": [
    "# Data\n",
    "boundaryLES = gpd.read_file(\"Lower East Boundary Spatial/Lower East Boundary Spatial.shp\")\n",
    "LL33Lots = gpd.read_file(\"Lower East LL33 Lots/Lower East LL33 Lots.shp\")\n",
    "LL97Lots = gpd.read_file(\"Lower East Manhattan LL97 Compliant Tax Lots/Lower East Manhattan LL97 Compliant Tax Lots.shp\")\n",
    "bothLots =  gpd.read_file(\"Both LL33 & LL97 Compliant Lots/Both LL33 & LL97 Compliant Lots.shp\")"
   ]
  },
  {
   "cell_type": "code",
   "execution_count": 14,
   "metadata": {},
   "outputs": [],
   "source": [
    "boundaryLES.to_file('LES_Boundary.geojson', driver='GeoJSON')\n",
    "LL33Lots.to_file('LES_LL33_Lots.geojson', driver='GeoJSON')\n",
    "LL97Lots.to_file('LES_LL97_Lots.geojson', driver='GeoJSON')\n",
    "bothLots.to_file('LES_LL33_and_LL97_Lots.geojson', driver='GeoJSON')"
   ]
  }
 ],
 "metadata": {
  "kernelspec": {
   "display_name": "streamlitenv",
   "language": "python",
   "name": "python3"
  },
  "language_info": {
   "codemirror_mode": {
    "name": "ipython",
    "version": 3
   },
   "file_extension": ".py",
   "mimetype": "text/x-python",
   "name": "python",
   "nbconvert_exporter": "python",
   "pygments_lexer": "ipython3",
   "version": "3.11.8"
  }
 },
 "nbformat": 4,
 "nbformat_minor": 2
}
