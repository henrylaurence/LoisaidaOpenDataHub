{
 "cells": [
  {
   "cell_type": "code",
   "execution_count": 1,
   "metadata": {},
   "outputs": [],
   "source": [
    "# Libraries\n",
    "import os\n",
    "from pathlib import Path\n",
    "import pandas as pd\n",
    "import geopandas as gpd\n",
    "import folium\n",
    "import leafmap.foliumap as leafmap"
   ]
  },
  {
   "cell_type": "code",
   "execution_count": 2,
   "metadata": {},
   "outputs": [
    {
     "data": {
      "text/plain": [
       "'C:\\\\Users\\\\alons\\\\OneDrive\\\\Documents\\\\Code\\\\Python\\\\CondaSpatial\\\\Streamlit\\\\LoisaidaOpenDataHub\\\\data'"
      ]
     },
     "execution_count": 2,
     "metadata": {},
     "output_type": "execute_result"
    }
   ],
   "source": [
    "# Directory\n",
    "current = Path.cwd()\n",
    "parent = current.resolve().parent / 'data'\n",
    "os.chdir(parent)\n",
    "os.getcwd()"
   ]
  },
  {
   "cell_type": "code",
   "execution_count": 3,
   "metadata": {},
   "outputs": [],
   "source": [
    "# Data\n",
    "Tree15_MN = gpd.read_file(\"Tree15MN.geojson\")"
   ]
  },
  {
   "cell_type": "code",
   "execution_count": 4,
   "metadata": {},
   "outputs": [],
   "source": [
    "# Processing\n",
    "Tree15_LES = Tree15_MN.loc[Tree15_MN['nta_name'].isin(['Chinatown', 'East Village', 'Lower East Side'])]\n",
    "\n",
    "Tree15_Columns = ['nta',\n",
    "                  'nta_name',\n",
    "                  'zipcode',\n",
    "                  'latitude',\n",
    "                  'nta_name',\n",
    "                  'y_sp',\n",
    "                  'brnch_othe',\n",
    "                  'root_grate',\n",
    "                  'tree_id',\n",
    "                  'steward',\n",
    "                  'spc_common',\n",
    "                  'trnk_other',\n",
    "                  'x_sp',\n",
    "                  'brnch_ligh',\n",
    "                  'longitude',\n",
    "                  'spc_latin',\n",
    "                  'status',\n",
    "                  'brnch_shoe',\n",
    "                  'curb_loc',\n",
    "                  'guards',\n",
    "                  'address',\n",
    "                  'sidewalk',\n",
    "                  'root_other',\n",
    "                  'block_id',\n",
    "                  'tree_dbh',\n",
    "                  'root_stone',\n",
    "                  'geometry']\n",
    "Tree15_Columns = list(set(Tree15_Columns))\n",
    "Tree15_LES = Tree15_LES[Tree15_Columns]\n",
    "Tree15_LES = gpd.GeoDataFrame(Tree15_LES)\n",
    "\n",
    "Tree15_Columns_Short = ['address',\n",
    "                       'spc_common',\n",
    "                       'geometry']\n",
    "Tree15_Columns_Short = list(set(Tree15_Columns_Short))\n",
    "Tree15_LES_Short = Tree15_LES[Tree15_Columns_Short]\n",
    "Tree15_LES_Short = gpd.GeoDataFrame(Tree15_LES_Short)\n",
    "\n",
    "Tree15_LES.to_file(filename=\"Tree15_LES.geojson\", driver='GeoJSON')\n",
    "Tree15_LES_Short.to_file(filename='Tree15_LES_Short.geojson', driver='GeoJSON')"
   ]
  },
  {
   "cell_type": "code",
   "execution_count": 5,
   "metadata": {},
   "outputs": [
    {
     "name": "stdout",
     "output_type": "stream",
     "text": [
      "Your map should have been opened in your browser automatically.\n",
      "Press ctrl+c to return.\n"
     ]
    }
   ],
   "source": [
    "\n",
    "#Marker_Style = \n",
    "# Popup\n",
    "\n",
    "\n",
    "# Tooltip \n",
    "\n",
    "#['spc_common', 'spc_latin', 'status', 'address']\n",
    "\n",
    "# Plot\n",
    "\n",
    "m = leafmap.Map(center=[40.7248387,-73.9775537], zoom=12, tiles = \"CartoDB.Positron\")\n",
    "m.add_gdf(Tree15_LES_Short)\n",
    "m.show_in_browser()"
   ]
  }
 ],
 "metadata": {
  "kernelspec": {
   "display_name": "Python 3",
   "language": "python",
   "name": "python3"
  },
  "language_info": {
   "codemirror_mode": {
    "name": "ipython",
    "version": 3
   },
   "file_extension": ".py",
   "mimetype": "text/x-python",
   "name": "python",
   "nbconvert_exporter": "python",
   "pygments_lexer": "ipython3",
   "version": "3.11.8"
  }
 },
 "nbformat": 4,
 "nbformat_minor": 2
}
